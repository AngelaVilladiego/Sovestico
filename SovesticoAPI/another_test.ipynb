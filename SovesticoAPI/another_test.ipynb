{
 "cells": [
  {
   "cell_type": "code",
   "execution_count": 25,
   "metadata": {},
   "outputs": [],
   "source": [
    "from langchain import hub\n",
    "from langchain.agents import AgentExecutor, create_openai_functions_agent\n",
    "from langchain.pydantic_v1 import BaseModel, Field\n",
    "from langchain.tools import BaseTool, StructuredTool, tool\n",
    "from langchain_openai import ChatOpenAI\n",
    "from search import generate_response\n",
    "import alpaca_trade_api as tradeapi\n",
    "import os\n",
    "\n",
    "from dotenv import load_dotenv\n",
    "load_dotenv()\n",
    "\n",
    "TAVILY_API_KEY = os.getenv(\"TAVILY_API_KEY\")\n",
    "OPENAI_API_KEY = os.getenv(\"OPENAI_API_KEY\")\n",
    "ALPACA_API_KEY = os.getenv(\"ALPACA_API_KEY\")\n",
    "ALPACA_SECRET_KEY = os.getenv(\"ALPACA_SECRET_KEY\")\n",
    "\n",
    "# API Info for fetching data, portfolio, etc. from Alpaca\n",
    "BASE_URL = \"https://paper-api.alpaca.markets\"\n",
    "\n",
    "# Instantiate REST API Connection\n",
    "api = tradeapi.REST(key_id=ALPACA_API_KEY, secret_key=ALPACA_SECRET_KEY, \n",
    "                    base_url=BASE_URL, api_version='v2')"
   ]
  },
  {
   "cell_type": "code",
   "execution_count": 26,
   "metadata": {},
   "outputs": [],
   "source": [
    "@tool\n",
    "def buy_stock(ticker: str, amount: int) -> str:\n",
    "    \"\"\"\n",
    "    This function buys a stock with the given ticker and amount on Alpaca API\n",
    "    ticker: the stock symbol\n",
    "    amount: the amount of stock to buy\n",
    "    \"\"\"\n",
    "    api.submit_order(symbol=ticker, qty=amount, side='buy', type='market', time_in_force='day')\n",
    "    return f\"Buying {amount} shares of {ticker}\""
   ]
  },
  {
   "cell_type": "code",
   "execution_count": 27,
   "metadata": {},
   "outputs": [],
   "source": [
    "@tool\n",
    "def sell_stock(ticker: str, amount: int) -> str:\n",
    "    \"\"\"\n",
    "    This function sell a stock with the given ticker and amount on Alpaca API\n",
    "    ticker: the stock symbol\n",
    "    amount: the amount of stock to sell\n",
    "    \"\"\"\n",
    "    api.submit_order(ticker, amount, 'sell', 'market', 'day')\n",
    "    return f\"Selling {amount} shares of {ticker}\""
   ]
  },
  {
   "cell_type": "code",
   "execution_count": 28,
   "metadata": {},
   "outputs": [],
   "source": [
    "def respondToQuery(ticker, query):\n",
    "    #ticker may be \"None\"\n",
    "    #query is the user's question\n",
    "    if ticker != None:\n",
    "        query = f\"The query is on {ticker}, {query}\"\n",
    "    \n",
    "    prompt = hub.pull(\"hwchase17/openai-functions-agent\")\n",
    "    llm = ChatOpenAI(model=\"gpt-3.5-turbo-1106\")\n",
    "    tools = [TavilySearchResults(), buy_stock, sell_stock]\n",
    "\n",
    "    # Construct the OpenAI Functions agent\n",
    "    agent = create_openai_functions_agent(llm, tools, prompt)\n",
    "    agent_executor = AgentExecutor(agent=agent, tools=tools, verbose=True)\n",
    "    response = agent_executor.invoke({\"input\": query})\n",
    "    return response"
   ]
  },
  {
   "cell_type": "code",
   "execution_count": 29,
   "metadata": {},
   "outputs": [
    {
     "name": "stdout",
     "output_type": "stream",
     "text": [
      "\n",
      "\n",
      "\u001b[1m> Entering new AgentExecutor chain...\u001b[0m\n",
      "\u001b[32;1m\u001b[1;3m\n",
      "Invoking: `tavily_search_results_json` with `{'query': 'ABT ESG information'}`\n",
      "\n",
      "\n",
      "\u001b[0m\u001b[36;1m\u001b[1;3m[{'url': 'https://www.marketbeat.com/stocks/NYSE/ABT/sustainability/', 'content': 'Abbott Laboratories (ABT) ESG Score & Sustainability Data $112.43 -0.88 (-0.78%) (As of 02/8/2024 ET) Stock Analysis Analyst Forecasts Chart Competitors Dividend Earnings Financials Headlines Insider Trades Options Chain Ownership SEC Filings Short Interest Social Media Sustainability Key ESG Takeaways for Abbott Laboratories'}, {'url': 'https://www.abtassociates.com/who-we-are/news/news-releases/key-sbti-approval-brings-abt-closer-to-net-zero-emissions-goal', 'content': \"Abt Associates' net-zero target has been approved by the Science Based Targets initiative (SBTi). This approval came less than a year after SBTi validated Abt's near-term emissions reduction target, and represents a key step to meeting the global Business Ambition for 1.5°C commitment we made in October 2021 to reach net-zero emissions by 2050.\"}, {'url': 'https://www.abtassociates.com/who-we-are/corporate-social-responsibility', 'content': \"Abt's corporate social responsibility efforts advance our mission impact through broad community engagement and a commitment to action against climate change. ... Stakeholder priorities were assessed using employee dialogues and surveys, our past ESG disclosures, peer and sector disclosure benchmarking, regulatory and legal requirements, and ...\"}, {'url': 'https://theimpactinvestor.com/stocks/abt/', 'content': \"ABT ESG Summary This is a summary of Abbott Laboratories's ESG scores from Sustainalytics, MSCI, and ESG Enterprise. Abbott Laboratories Sector: Health Care Industry: Health Care Equipment Website: www.abbott.com Business Description Abbott Laboratories discovers, develops, manufactures, and sells health care products worldwide.\"}, {'url': 'https://www.abtassociates.com/mission-impact-report-2022/our-people-operations/ethics-governance', 'content': 'ESG—Managing Risk; Pushing Transparency & Operations Leadership Environmental, social, and governance (ESG) risks are among the top concerns organizations must manage today. For example, companies must align with the Ten Principles of the UNGC to even bid on government contracts with the United Kingdom.'}]\u001b[0m\u001b[32;1m\u001b[1;3mHere are some ESG (Environmental, Social, and Governance) information about Abbott Laboratories (ABT):\n",
      "\n",
      "1. Abbott Laboratories has a sustainability score and sustainability data available for analysis. You can find more information on this at [MarketBeat - Abbott Laboratories Sustainability](https://www.marketbeat.com/stocks/NYSE/ABT/sustainability/).\n",
      "\n",
      "2. Abt Associates, a company associated with Abbott Laboratories, has had its net-zero target approved by the Science Based Targets initiative (SBTi). This approval represents a key step toward meeting the global commitment to reach net-zero emissions by 2050. You can read more about this at [Abt Associates News Release](https://www.abtassociates.com/who-we-are/news/news-releases/key-sbti-approval-brings-abt-closer-to-net-zero-emissions-goal).\n",
      "\n",
      "3. Abbott Laboratories' corporate social responsibility efforts include broad community engagement and a commitment to action against climate change. More information on this can be found at [Abt Associates Corporate Social Responsibility](https://www.abtassociates.com/who-we-are/corporate-social-responsibility).\n",
      "\n",
      "4. The ESG summary of Abbott Laboratories includes scores from Sustainalytics, MSCI, and ESG Enterprise. You can find more details about this at [The Impact Investor - ABT ESG Summary](https://theimpactinvestor.com/stocks/abt/).\n",
      "\n",
      "5. Abbott Laboratories is also focused on managing ESG risks, pushing transparency, and demonstrating operational leadership. Environmental, social, and governance risks are among the top concerns organizations must manage today. You can find more information about this at [Abt Associates' Mission Impact Report](https://www.abtassociates.com/mission-impact-report-2022/our-people-operations/ethics-governance).\n",
      "\n",
      "For more detailed information, you can visit the provided links.\u001b[0m\n",
      "\n",
      "\u001b[1m> Finished chain.\u001b[0m\n"
     ]
    }
   ],
   "source": [
    "result = respondToQuery(\"ABT\", \"What are the ESG informations about ABT?\")"
   ]
  }
 ],
 "metadata": {
  "kernelspec": {
   "display_name": "sovestico",
   "language": "python",
   "name": "python3"
  },
  "language_info": {
   "codemirror_mode": {
    "name": "ipython",
    "version": 3
   },
   "file_extension": ".py",
   "mimetype": "text/x-python",
   "name": "python",
   "nbconvert_exporter": "python",
   "pygments_lexer": "ipython3",
   "version": "3.1.0"
  }
 },
 "nbformat": 4,
 "nbformat_minor": 2
}
